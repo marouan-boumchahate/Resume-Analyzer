{
 "cells": [
  {
   "cell_type": "code",
   "execution_count": 1,
   "id": "792e5cba-95e0-44a6-b3f5-d552c03b77d0",
   "metadata": {},
   "outputs": [
    {
     "name": "stdout",
     "output_type": "stream",
     "text": [
      "Requirement already satisfied: PyPDF2 in c:\\users\\marou\\anaconda3\\envs\\llms\\lib\\site-packages (3.0.1)\n"
     ]
    }
   ],
   "source": [
    "!pip install PyPDF2"
   ]
  },
  {
   "cell_type": "markdown",
   "id": "a2a32b07-f8eb-4c89-b0e0-7e76772d4f12",
   "metadata": {},
   "source": [
    "# Import Libs"
   ]
  },
  {
   "cell_type": "code",
   "execution_count": 2,
   "id": "0f1bb12d-7d08-4fb1-8f9a-edbbae25281c",
   "metadata": {},
   "outputs": [],
   "source": [
    "import os\n",
    "import json\n",
    "from dotenv import load_dotenv\n",
    "from openai import OpenAI\n",
    "import gradio as gr\n",
    "import PyPDF2"
   ]
  },
  {
   "cell_type": "markdown",
   "id": "933d709d-ab59-458a-bd47-51315ec223ed",
   "metadata": {},
   "source": [
    "# Load the OpenAI key"
   ]
  },
  {
   "cell_type": "code",
   "execution_count": 3,
   "id": "53a2e4d2-98bb-406e-8996-24d98fe84dfe",
   "metadata": {},
   "outputs": [
    {
     "name": "stdout",
     "output_type": "stream",
     "text": [
      "OpenAI API Key exists and begins sk-proj-\n"
     ]
    }
   ],
   "source": [
    "load_dotenv(override=True)\n",
    "\n",
    "openai_api_key = os.getenv('OPENAI_API_KEY')\n",
    "if openai_api_key:\n",
    "    print(f\"OpenAI API Key exists and begins {openai_api_key[:8]}\")\n",
    "else:\n",
    "    print(\"OpenAI API Key not set\")\n",
    "    \n",
    "MODEL = \"gpt-4o-mini\"\n",
    "openai = OpenAI()"
   ]
  },
  {
   "cell_type": "markdown",
   "id": "38c95c7c-c1c1-42cd-a254-eae750e41102",
   "metadata": {},
   "source": [
    "# Preparing System Prompt"
   ]
  },
  {
   "cell_type": "code",
   "execution_count": 4,
   "id": "d975b660-94af-458c-b3db-d7f272fd1224",
   "metadata": {},
   "outputs": [],
   "source": [
    "system_prompt = \"You are a helpful assistant that analyzes resumes and display a simple conslusion of the resume with some statistics on how it perfectly fits the job requirements and other informations. \"\n",
    "system_prompt = \"Experiences in same domain add a huge advantage to the resume. \"\n",
    "system_prompt = \"The user prompt should contains all information from the job requirements to the resume as a PDF format. \"\n",
    "system_prompt = \"The response must include x short paragraphs: \\n\"\n",
    "system_prompt = \"\"\"\n",
    "    1- How much out of 10 this user fits Job requirements\n",
    "    2- Reason Behind the score\n",
    "    3- what advices can you give to the HR of selecting this user or not\n",
    "\"\"\""
   ]
  },
  {
   "cell_type": "markdown",
   "id": "0fce9d87-df77-4ec6-8e83-991e4c1f8040",
   "metadata": {},
   "source": [
    "# Extract Text from PDF"
   ]
  },
  {
   "cell_type": "code",
   "execution_count": 5,
   "id": "349538cf-1d38-414e-8317-7997654fbc1e",
   "metadata": {},
   "outputs": [],
   "source": [
    "def get_pdf_text(path):\n",
    "    text = ''\n",
    "    \n",
    "    with open(path, 'rb') as file:\n",
    "        reader = PyPDF2.PdfReader(file)\n",
    "        for page in reader.pages:\n",
    "            text += page.extract_text()\n",
    "\n",
    "    return text"
   ]
  },
  {
   "cell_type": "markdown",
   "id": "831fb507-5772-4bfe-ab82-18357c688e77",
   "metadata": {},
   "source": [
    "# AI Response Generator"
   ]
  },
  {
   "cell_type": "code",
   "execution_count": 6,
   "id": "66afdf85-5657-4953-a312-3f7605601fc0",
   "metadata": {},
   "outputs": [],
   "source": [
    "def chat(requirements, file_path):\n",
    "    file_text = get_pdf_text(file_path)\n",
    "    message = f\"Job Requirements: {requirements}\\nResume Information: {file_text}\"\n",
    "    \n",
    "    messages = [{\"role\": \"system\", \"content\": system_prompt}, {\"role\": \"user\", \"content\": message}]\n",
    "    response = openai.chat.completions.create(model=MODEL, messages=messages)\n",
    "    \n",
    "    return response.choices[0].message.content"
   ]
  },
  {
   "cell_type": "markdown",
   "id": "d203b157-23f8-4edb-9f30-c4ea7b17282d",
   "metadata": {},
   "source": [
    "# Create the Chat Interface"
   ]
  },
  {
   "cell_type": "code",
   "execution_count": 7,
   "id": "39ce0338-70ce-4e3c-b219-5ebfd1292ed3",
   "metadata": {},
   "outputs": [],
   "source": [
    "def create_resume_analyzer_interface():\n",
    "    with gr.Blocks(title=\"Resume Analyzer 🤖\") as interface:\n",
    "        with gr.Row():\n",
    "            with gr.Column():\n",
    "                gr.Markdown(\"### Requirements\")\n",
    "                input_text = gr.Textbox(\n",
    "                    label = \"Enter the Job Requirements\",\n",
    "                    placeholder = \"Place your requirements here...\",\n",
    "                    lines = 7\n",
    "                )\n",
    "                file_upload = gr.File(\n",
    "                    label=\"Upload Resume (PDF, DOC, DOCX, TXT)\",\n",
    "                    file_types=[\".pdf\", \".doc\", \".docx\", \".txt\"],\n",
    "                    file_count=\"single\"\n",
    "                )\n",
    "            with gr.Column():\n",
    "                gr.Markdown(\"### Result\")\n",
    "                output_text = gr.Markdown(\n",
    "                    label=\"Analyzing...\",\n",
    "                    height=500  # Set height instead of lines\n",
    "                )\n",
    "        \n",
    "                \n",
    "        analyze_btn = gr.Button(\"Analyze\", variant=\"primary\")\n",
    "        clear_btn = gr.Button(\"Clear\", variant=\"secondary\")\n",
    "        \n",
    "        analyze_btn.click(\n",
    "            fn=chat,\n",
    "            inputs=[input_text, file_upload],\n",
    "            outputs=output_text\n",
    "        )\n",
    "        clear_btn.click(\n",
    "            fn=lambda: (\"\", \"\"),\n",
    "            inputs=[],\n",
    "            outputs=[input_text, output_text]\n",
    "        )   \n",
    "    return interface"
   ]
  },
  {
   "cell_type": "markdown",
   "id": "3207a244-a8ba-4dde-a665-583e77365696",
   "metadata": {},
   "source": [
    "# Start Analyzing"
   ]
  },
  {
   "cell_type": "code",
   "execution_count": 8,
   "id": "b1557654-43dd-45ce-b2f9-c801acc2ffed",
   "metadata": {},
   "outputs": [],
   "source": [
    "interface = create_resume_analyzer_interface()"
   ]
  },
  {
   "cell_type": "code",
   "execution_count": 9,
   "id": "766f8557-155f-4273-b643-09c6baf9cd0c",
   "metadata": {},
   "outputs": [
    {
     "name": "stdout",
     "output_type": "stream",
     "text": [
      "* Running on local URL:  http://127.0.0.1:7867\n",
      "* To create a public link, set `share=True` in `launch()`.\n"
     ]
    },
    {
     "data": {
      "text/html": [
       "<div><iframe src=\"http://127.0.0.1:7867/\" width=\"100%\" height=\"500\" allow=\"autoplay; camera; microphone; clipboard-read; clipboard-write;\" frameborder=\"0\" allowfullscreen></iframe></div>"
      ],
      "text/plain": [
       "<IPython.core.display.HTML object>"
      ]
     },
     "metadata": {},
     "output_type": "display_data"
    },
    {
     "data": {
      "text/plain": []
     },
     "execution_count": 9,
     "metadata": {},
     "output_type": "execute_result"
    }
   ],
   "source": [
    "interface.launch()"
   ]
  },
  {
   "cell_type": "code",
   "execution_count": null,
   "id": "e6d53f00-eb52-4a4f-ad77-6371ccf2cb8a",
   "metadata": {},
   "outputs": [],
   "source": []
  }
 ],
 "metadata": {
  "kernelspec": {
   "display_name": "Python 3 (ipykernel)",
   "language": "python",
   "name": "python3"
  },
  "language_info": {
   "codemirror_mode": {
    "name": "ipython",
    "version": 3
   },
   "file_extension": ".py",
   "mimetype": "text/x-python",
   "name": "python",
   "nbconvert_exporter": "python",
   "pygments_lexer": "ipython3",
   "version": "3.11.13"
  }
 },
 "nbformat": 4,
 "nbformat_minor": 5
}
